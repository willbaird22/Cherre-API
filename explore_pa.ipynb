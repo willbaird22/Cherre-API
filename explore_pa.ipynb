{
 "cells": [
  {
   "cell_type": "code",
   "execution_count": 1,
   "metadata": {},
   "outputs": [],
   "source": [
    "import pandas as pd"
   ]
  },
  {
   "cell_type": "code",
   "execution_count": 2,
   "metadata": {},
   "outputs": [],
   "source": [
    "df = pd.read_csv('pa_data.csv')"
   ]
  },
  {
   "cell_type": "code",
   "execution_count": 3,
   "metadata": {},
   "outputs": [
    {
     "data": {
      "text/html": [
       "<div>\n",
       "<style scoped>\n",
       "    .dataframe tbody tr th:only-of-type {\n",
       "        vertical-align: middle;\n",
       "    }\n",
       "\n",
       "    .dataframe tbody tr th {\n",
       "        vertical-align: top;\n",
       "    }\n",
       "\n",
       "    .dataframe thead th {\n",
       "        text-align: right;\n",
       "    }\n",
       "</style>\n",
       "<table border=\"1\" class=\"dataframe\">\n",
       "  <thead>\n",
       "    <tr style=\"text-align: right;\">\n",
       "      <th></th>\n",
       "      <th>address</th>\n",
       "      <th>state</th>\n",
       "      <th>city</th>\n",
       "      <th>zip</th>\n",
       "      <th>situs_county</th>\n",
       "      <th>longitude</th>\n",
       "      <th>latitude</th>\n",
       "      <th>basement_finished_sq_ft</th>\n",
       "      <th>basement_sq_ft</th>\n",
       "      <th>basement_unfinished_sq_ft</th>\n",
       "      <th>building_sq_ft</th>\n",
       "      <th>market_value_total</th>\n",
       "      <th>year_built</th>\n",
       "      <th>foundation_code</th>\n",
       "      <th>tax_assessor_id</th>\n",
       "      <th>average_household_income</th>\n",
       "    </tr>\n",
       "  </thead>\n",
       "  <tbody>\n",
       "    <tr>\n",
       "      <th>0</th>\n",
       "      <td>10 SULLIVAN AVE</td>\n",
       "      <td>PA</td>\n",
       "      <td>MATAMORAS</td>\n",
       "      <td>18336.0</td>\n",
       "      <td>Orange County</td>\n",
       "      <td>-74.686947</td>\n",
       "      <td>41.377965</td>\n",
       "      <td>NaN</td>\n",
       "      <td>NaN</td>\n",
       "      <td>NaN</td>\n",
       "      <td>1970.0</td>\n",
       "      <td>192700.0</td>\n",
       "      <td>1880.0</td>\n",
       "      <td>NaN</td>\n",
       "      <td>369750500</td>\n",
       "      <td>158569.0</td>\n",
       "    </tr>\n",
       "    <tr>\n",
       "      <th>1</th>\n",
       "      <td>60 LOS ALAMITOS CIR</td>\n",
       "      <td>PA</td>\n",
       "      <td>HANOVER</td>\n",
       "      <td>17331.0</td>\n",
       "      <td>Adams County</td>\n",
       "      <td>-77.051008</td>\n",
       "      <td>39.791606</td>\n",
       "      <td>NaN</td>\n",
       "      <td>NaN</td>\n",
       "      <td>NaN</td>\n",
       "      <td>2508.0</td>\n",
       "      <td>282500.0</td>\n",
       "      <td>2000.0</td>\n",
       "      <td>NaN</td>\n",
       "      <td>447149148</td>\n",
       "      <td>100604.0</td>\n",
       "    </tr>\n",
       "    <tr>\n",
       "      <th>2</th>\n",
       "      <td>50 ST MICHAELS WAY</td>\n",
       "      <td>PA</td>\n",
       "      <td>HANOVER</td>\n",
       "      <td>17331.0</td>\n",
       "      <td>Adams County</td>\n",
       "      <td>-77.044935</td>\n",
       "      <td>39.797939</td>\n",
       "      <td>NaN</td>\n",
       "      <td>NaN</td>\n",
       "      <td>NaN</td>\n",
       "      <td>1999.0</td>\n",
       "      <td>303500.0</td>\n",
       "      <td>2010.0</td>\n",
       "      <td>NaN</td>\n",
       "      <td>447149152</td>\n",
       "      <td>100604.0</td>\n",
       "    </tr>\n",
       "    <tr>\n",
       "      <th>3</th>\n",
       "      <td>54 LOS ALAMITOS CIR</td>\n",
       "      <td>PA</td>\n",
       "      <td>HANOVER</td>\n",
       "      <td>17331.0</td>\n",
       "      <td>Adams County</td>\n",
       "      <td>-77.050784</td>\n",
       "      <td>39.791293</td>\n",
       "      <td>NaN</td>\n",
       "      <td>NaN</td>\n",
       "      <td>NaN</td>\n",
       "      <td>2242.0</td>\n",
       "      <td>291000.0</td>\n",
       "      <td>2001.0</td>\n",
       "      <td>NaN</td>\n",
       "      <td>447149156</td>\n",
       "      <td>100604.0</td>\n",
       "    </tr>\n",
       "    <tr>\n",
       "      <th>4</th>\n",
       "      <td>56 ST MICHAELS WAY</td>\n",
       "      <td>PA</td>\n",
       "      <td>HANOVER</td>\n",
       "      <td>17331.0</td>\n",
       "      <td>Adams County</td>\n",
       "      <td>-77.045038</td>\n",
       "      <td>39.797948</td>\n",
       "      <td>NaN</td>\n",
       "      <td>NaN</td>\n",
       "      <td>NaN</td>\n",
       "      <td>1863.0</td>\n",
       "      <td>261100.0</td>\n",
       "      <td>2010.0</td>\n",
       "      <td>2.0</td>\n",
       "      <td>447149160</td>\n",
       "      <td>100604.0</td>\n",
       "    </tr>\n",
       "  </tbody>\n",
       "</table>\n",
       "</div>"
      ],
      "text/plain": [
       "               address state       city      zip   situs_county  longitude  \\\n",
       "0      10 SULLIVAN AVE    PA  MATAMORAS  18336.0  Orange County -74.686947   \n",
       "1  60 LOS ALAMITOS CIR    PA    HANOVER  17331.0   Adams County -77.051008   \n",
       "2   50 ST MICHAELS WAY    PA    HANOVER  17331.0   Adams County -77.044935   \n",
       "3  54 LOS ALAMITOS CIR    PA    HANOVER  17331.0   Adams County -77.050784   \n",
       "4   56 ST MICHAELS WAY    PA    HANOVER  17331.0   Adams County -77.045038   \n",
       "\n",
       "    latitude  basement_finished_sq_ft  basement_sq_ft  \\\n",
       "0  41.377965                      NaN             NaN   \n",
       "1  39.791606                      NaN             NaN   \n",
       "2  39.797939                      NaN             NaN   \n",
       "3  39.791293                      NaN             NaN   \n",
       "4  39.797948                      NaN             NaN   \n",
       "\n",
       "   basement_unfinished_sq_ft  building_sq_ft  market_value_total  year_built  \\\n",
       "0                        NaN          1970.0            192700.0      1880.0   \n",
       "1                        NaN          2508.0            282500.0      2000.0   \n",
       "2                        NaN          1999.0            303500.0      2010.0   \n",
       "3                        NaN          2242.0            291000.0      2001.0   \n",
       "4                        NaN          1863.0            261100.0      2010.0   \n",
       "\n",
       "   foundation_code  tax_assessor_id  average_household_income  \n",
       "0              NaN        369750500                  158569.0  \n",
       "1              NaN        447149148                  100604.0  \n",
       "2              NaN        447149152                  100604.0  \n",
       "3              NaN        447149156                  100604.0  \n",
       "4              2.0        447149160                  100604.0  "
      ]
     },
     "execution_count": 3,
     "metadata": {},
     "output_type": "execute_result"
    }
   ],
   "source": [
    "df.head()"
   ]
  },
  {
   "cell_type": "code",
   "execution_count": 6,
   "metadata": {},
   "outputs": [],
   "source": [
    "# count rows where situs_county = 'Dauphin'\n",
    "dauphin_count = df[df['situs_county'] == 'Dauphin County'].shape[0]"
   ]
  },
  {
   "cell_type": "code",
   "execution_count": 7,
   "metadata": {},
   "outputs": [
    {
     "name": "stdout",
     "output_type": "stream",
     "text": [
      "80708\n"
     ]
    }
   ],
   "source": [
    "print(dauphin_count)"
   ]
  },
  {
   "cell_type": "code",
   "execution_count": 8,
   "metadata": {},
   "outputs": [],
   "source": [
    "cumberland_count = df[df['situs_county'] == 'Cumberland County'].shape[0]"
   ]
  },
  {
   "cell_type": "code",
   "execution_count": 9,
   "metadata": {},
   "outputs": [
    {
     "name": "stdout",
     "output_type": "stream",
     "text": [
      "73148\n"
     ]
    }
   ],
   "source": [
    "print(cumberland_count)"
   ]
  },
  {
   "cell_type": "code",
   "execution_count": 10,
   "metadata": {},
   "outputs": [],
   "source": [
    "# count rows where situs_county = 'Dauphin County' and foundation_code = 2\n",
    "dauphin_foundation_2_count = df[(df['situs_county'] == 'Dauphin County') & (df['foundation_code'] == 2)].shape[0]"
   ]
  },
  {
   "cell_type": "code",
   "execution_count": 11,
   "metadata": {},
   "outputs": [
    {
     "name": "stdout",
     "output_type": "stream",
     "text": [
      "990\n"
     ]
    }
   ],
   "source": [
    "print(dauphin_foundation_2_count)"
   ]
  },
  {
   "cell_type": "code",
   "execution_count": 12,
   "metadata": {},
   "outputs": [],
   "source": [
    "cumberland_foundation_2_count = df[(df['situs_county'] == 'Cumberland County') & (df['foundation_code'] == 2)].shape[0]"
   ]
  },
  {
   "cell_type": "code",
   "execution_count": 13,
   "metadata": {},
   "outputs": [
    {
     "name": "stdout",
     "output_type": "stream",
     "text": [
      "1501\n"
     ]
    }
   ],
   "source": [
    "print(cumberland_foundation_2_count)"
   ]
  },
  {
   "cell_type": "code",
   "execution_count": null,
   "metadata": {},
   "outputs": [],
   "source": []
  }
 ],
 "metadata": {
  "kernelspec": {
   "display_name": "Python 3",
   "language": "python",
   "name": "python3"
  },
  "language_info": {
   "codemirror_mode": {
    "name": "ipython",
    "version": 3
   },
   "file_extension": ".py",
   "mimetype": "text/x-python",
   "name": "python",
   "nbconvert_exporter": "python",
   "pygments_lexer": "ipython3",
   "version": "3.12.3"
  }
 },
 "nbformat": 4,
 "nbformat_minor": 2
}
